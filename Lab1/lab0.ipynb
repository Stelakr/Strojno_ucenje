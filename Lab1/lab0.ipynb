{
 "cells": [
  {
   "cell_type": "markdown",
   "metadata": {},
   "source": [
    "## Kratki pregled za Jupyter Notebook"
   ]
  },
  {
   "cell_type": "markdown",
   "metadata": {},
   "source": [
    "Jupyter Notebook je okruženje za kodiranje temeljeno na pregledniku, koje se intenzivno koristi za izradu prototipa i interaktivni razvoj u aplikacijama za podatkovnu znanost. Jupyter Notebook je evolucija starijeg projekta koji se zove IPython Noteboook (ovo je podrijetlo ekstenzije datoteke prijenosnika “.ipynb”), i dok (kao što ime sugerira) Jupyter Notebook podržava jezike koji nisu Python, trenutno Python je daleko najčešći jezik za ove bilježnice. Opće informacije o Jupyter Notebooku i povezanim projektima mogu se pronaći na stranici [Jupyter project page](http://jupyter.org/)."
   ]
  },
  {
   "cell_type": "markdown",
   "metadata": {},
   "source": [
    "Središnja jedinica unutar Jupyter Notebooka su \"ćelije\". Ove ćelije mogu sadržavati kod ili Markdown (jednostavan jezik za oblikovanje, koji također može uključivati stvari poput LaTeX jednadžbe). Padajući izbornik na vrhu zaslona označava vrstu trenutne ćelije.\n",
    "\n",
    "Ćelije s kodovima mogu se izvršiti pritiskom na gumb ▶❚ na vrhu bilježnice ili češće putem naredbi Shift-Enter (izvrši i prijeđi na sljedeću ćeliju) ili Control-Enter (izvrši i ostani na toj ćeliji). Sav Python kod se izvodi u jednom radnom Python okruženju, koje se zove \"Kernel\" u Jupyter bilježnici. Varijable se dijele u svim ćelijama, a kod se izvršava redoslijedom kojim se ćelije izvode (ne nužno sekvencijalno u bilježnici), što vašu bilježnicu može dovesti u prilično zbunjujuća stanja ako ćelije ne izvršavate uvijek redom.\n",
    "\n",
    "Pogledajmo nekoliko primjera."
   ]
  },
  {
   "cell_type": "code",
   "execution_count": null,
   "metadata": {},
   "outputs": [],
   "source": [
    "1+2"
   ]
  },
  {
   "cell_type": "code",
   "execution_count": null,
   "metadata": {},
   "outputs": [],
   "source": [
    "a = 1.0\n",
    "b = 2.0"
   ]
  },
  {
   "cell_type": "code",
   "execution_count": null,
   "metadata": {},
   "outputs": [],
   "source": [
    "print(a)\n",
    "b"
   ]
  },
  {
   "cell_type": "code",
   "execution_count": null,
   "metadata": {},
   "outputs": [],
   "source": [
    "for i in range(10):\n",
    "    print(i)"
   ]
  },
  {
   "cell_type": "markdown",
   "metadata": {},
   "source": [
    "Sve naredbe za `print` ispisat će se u odjeljak izlaza iz ćelije, a izlaz će također sadržavati string reprezentaciju objekta koju vraća zadnji red u ćeliji. Dakle, u gornjoj postavci gdje se varijabla `b` pojavljuje u zadnjem retku ćelije, njen sadržaj se ispisuje na kraju izlaza ćelije, nakon svih prethodnih naredbi za ispis koje su se dogodile prije.\n",
    "\n",
    "Bilo koji Python kod bit će valjan u tim ćelijama, tako da možemo uvesti vanjske biblioteke, definirati klase i funkcije itd."
   ]
  },
  {
   "cell_type": "code",
   "execution_count": null,
   "metadata": {},
   "outputs": [],
   "source": [
    "import requests"
   ]
  },
  {
   "cell_type": "code",
   "execution_count": null,
   "metadata": {},
   "outputs": [],
   "source": [
    "def square(x):\n",
    "    \"\"\"Square the input x\"\"\"\n",
    "    return x*x"
   ]
  },
  {
   "cell_type": "code",
   "execution_count": null,
   "metadata": {},
   "outputs": [],
   "source": [
    "square(4)"
   ]
  },
  {
   "cell_type": "markdown",
   "metadata": {},
   "source": [
    "### Cell magics\n",
    "\n",
    "Osim pokretanja Python koda, Jupyter Notebook ima neke ugrađene rutine za izvođenje operacija izvan Pythona, mjerenje vremena ili analizu izvođenja koda, itd. Ovim \"cell magics\" prethodi `%` (na početku retka ... ovo je tehnički se naziva \"linijska magija\") za single line cell magic i `%%` na početku ćelije za cell magics cjalokupne ćelije. Nećemo pokriti mnoge od njih, ali neke su vrlo korisne pa bi se bilo ok upoznati s osnovama. Puno iscrpniji popis se nalazi se ovdje: [Built-in cell magics](http://ipython.readthedocs.io/en/stable/interactive/magics.html).\n",
    "\n",
    "- Vremenske operacije s `%timeit` (za jednu liniju), `%%timeit` (za cijelu ćeliju). Ova naredba će pokrenuti liniju ili ćeliju više puta i dati prosječno vrijeme. Prilagodljiva je, tako da se operacije koje traju manje vremena izvode češće, kako bi se osigurala bolja procjena vremena izvođenja (dakle, vrijeme potrebno za izvođenje ove naredbe nije indikativno za stvarno vrijeme koje je potrebno za izvođenje kod. Ako želite samo mjeriti vrijeme jednog prolaza, koristeći `%time` ili `%%time`."
   ]
  },
  {
   "cell_type": "code",
   "execution_count": null,
   "metadata": {},
   "outputs": [],
   "source": [
    "%time sum(x**2 for x in range(10000))"
   ]
  },
  {
   "cell_type": "markdown",
   "metadata": {},
   "source": [
    "- Izvršite bash naredbe s `%%bash`. Koristite ovo vrlo umjereno."
   ]
  },
  {
   "cell_type": "code",
   "execution_count": null,
   "metadata": {},
   "outputs": [],
   "source": [
    "%%bash\n",
    "ls"
   ]
  },
  {
   "cell_type": "markdown",
   "metadata": {
    "id": "VY48mAXCuRa-"
   },
   "source": [
    "# Uvod u Python\n",
    "\n",
    "Python je moćan interpretirani jezik visoke razine."
   ]
  },
  {
   "cell_type": "markdown",
   "metadata": {
    "id": "qgtLgu0-uplS"
   },
   "source": [
    "## Varijable"
   ]
  },
  {
   "cell_type": "markdown",
   "metadata": {
    "id": "aJ0yODE9dpV6"
   },
   "source": [
    "Cijeli brojevi"
   ]
  },
  {
   "cell_type": "code",
   "execution_count": null,
   "metadata": {
    "id": "EJ4tZ5gYdrOv"
   },
   "outputs": [],
   "source": [
    "a = 1\n",
    "b = 2\n",
    "print(\"Sum, difference, division:\", a + b, a - b, a // b)"
   ]
  },
  {
   "cell_type": "markdown",
   "metadata": {
    "id": "ZPpnUzuudus2"
   },
   "source": [
    "Brojevi s pomičnim zarezom"
   ]
  },
  {
   "cell_type": "code",
   "execution_count": 1,
   "metadata": {
    "id": "oRM7cXildxrf"
   },
   "outputs": [
    {
     "name": "stdout",
     "output_type": "stream",
     "text": [
      "Brojevi s pomičnim zarezom: 0.5\n"
     ]
    }
   ],
   "source": [
    "print(\"Brojevi s pomičnim zarezom:\", 1.0 / 2.0)"
   ]
  },
  {
   "cell_type": "markdown",
   "metadata": {
    "id": "Q6IzYW72d2Na"
   },
   "source": [
    "Kompleksni brojevi"
   ]
  },
  {
   "cell_type": "code",
   "execution_count": null,
   "metadata": {
    "id": "3ooBQ-HAd4R-"
   },
   "outputs": [],
   "source": [
    "print(\"Kompleksni brojevi:\", 1.0 + 1.0j)"
   ]
  },
  {
   "cell_type": "markdown",
   "metadata": {
    "id": "aRtsNkxLd7AB"
   },
   "source": [
    "Booleans"
   ]
  },
  {
   "cell_type": "code",
   "execution_count": null,
   "metadata": {
    "id": "mzvtZ2RceARU"
   },
   "outputs": [],
   "source": [
    "a = True\n",
    "b = False\n",
    "print(\"Boolean operations:\", a or b, a and b, not a)"
   ]
  },
  {
   "cell_type": "markdown",
   "metadata": {
    "id": "uVzLWAp7eCch"
   },
   "source": [
    "Stringovi"
   ]
  },
  {
   "cell_type": "code",
   "execution_count": null,
   "metadata": {
    "id": "jx9zZkzSeHH1"
   },
   "outputs": [],
   "source": [
    "a = \"Ovo je string u Pythonu\"\n",
    "print(\"String:\", a)"
   ]
  },
  {
   "cell_type": "markdown",
   "metadata": {
    "id": "kgTGxeOFeLd1"
   },
   "source": [
    "Mogu se upotrebljavati i jednostruki navodnici"
   ]
  },
  {
   "cell_type": "code",
   "execution_count": null,
   "metadata": {
    "id": "EkSoAMuJeIlX"
   },
   "outputs": [],
   "source": [
    "a = 'Ovo je takodjer string'\n",
    "a"
   ]
  },
  {
   "cell_type": "markdown",
   "metadata": {
    "id": "IvlWLUGLePla"
   },
   "source": [
    "Dugačak string se može razdijeliti na sljedeći način"
   ]
  },
  {
   "cell_type": "code",
   "execution_count": null,
   "metadata": {
    "id": "Kv_M49fpeS0E"
   },
   "outputs": [],
   "source": [
    "a = (\"Veoma Veoma Veoma \"\n",
    "     \"dugacak dugacak dugacak \"\n",
    "     \"string u Pythonu\"\n",
    "    )\n",
    "a"
   ]
  },
  {
   "cell_type": "markdown",
   "metadata": {
    "id": "-_UfrpwQeXi4"
   },
   "source": [
    "Ili uspotrebljavajte multiline string"
   ]
  },
  {
   "cell_type": "code",
   "execution_count": null,
   "metadata": {
    "id": "uAMadNw5eZQ7"
   },
   "outputs": [],
   "source": [
    "a = \"\"\"ovo\n",
    "je\n",
    "multiline \n",
    "string\"\"\"\n",
    "a"
   ]
  },
  {
   "cell_type": "markdown",
   "metadata": {
    "id": "OJXyqzJ_ehNm"
   },
   "source": [
    "Konkatenacija Stringa"
   ]
  },
  {
   "cell_type": "code",
   "execution_count": null,
   "metadata": {
    "id": "wxNX3yCOejzb"
   },
   "outputs": [],
   "source": [
    "\"str\" + \"ing\""
   ]
  },
  {
   "cell_type": "markdown",
   "metadata": {
    "id": "gyJYt_dJepTs"
   },
   "source": [
    "Jedna od korisnih string metoda:"
   ]
  },
  {
   "cell_type": "code",
   "execution_count": null,
   "metadata": {
    "id": "TfkggKXletFA"
   },
   "outputs": [],
   "source": [
    "print(\"string\".startswith(\"str\"))"
   ]
  },
  {
   "cell_type": "markdown",
   "metadata": {
    "id": "vtQDPYB-fY7x"
   },
   "source": [
    "Testirajte sljedeće metode: `.endswith`, `.join`, `.capitalize`"
   ]
  },
  {
   "cell_type": "markdown",
   "metadata": {
    "id": "rWnykIjkfhly"
   },
   "source": [
    "String formatting"
   ]
  },
  {
   "cell_type": "code",
   "execution_count": null,
   "metadata": {
    "id": "PToq0omNflP2"
   },
   "outputs": [],
   "source": [
    "\"This is a number {}, this is another number {}!\".format(10, 20)"
   ]
  },
  {
   "cell_type": "markdown",
   "metadata": {
    "id": "WgYzAHHSf00K"
   },
   "source": [
    "Moguće je specificirati kako je broj formatiran"
   ]
  },
  {
   "cell_type": "code",
   "execution_count": null,
   "metadata": {
    "id": "zGGlXdZQuKnG"
   },
   "outputs": [],
   "source": [
    "\"This is pi {:0.2f}!\".format(3.1415)"
   ]
  },
  {
   "cell_type": "markdown",
   "metadata": {
    "id": "e2UqKCEDf4n9"
   },
   "source": [
    "Format stringovi izgledaju ovako:"
   ]
  },
  {
   "cell_type": "code",
   "execution_count": null,
   "metadata": {
    "id": "vao_Xk17f_BP"
   },
   "outputs": [],
   "source": [
    "f\"This is sum of 2 and 3: {2 + 3}\""
   ]
  },
  {
   "cell_type": "markdown",
   "metadata": {
    "id": "yDBje-obvc9B"
   },
   "source": [
    "## Jednostavne data strukture: lists, maps, sets, tuples\n",
    "\n",
    "Liste are zamišljenje za pohranjivanje vrijednosti u nizu."
   ]
  },
  {
   "cell_type": "markdown",
   "metadata": {
    "id": "qZp9Hx-9hIRC"
   },
   "source": [
    "### Liste"
   ]
  },
  {
   "cell_type": "code",
   "execution_count": null,
   "metadata": {
    "id": "iEO10YjSgEiP"
   },
   "outputs": [],
   "source": [
    "array = [1, 4, 2, 3, 8, 7, 6, 5]\n",
    "array"
   ]
  },
  {
   "cell_type": "code",
   "execution_count": null,
   "metadata": {
    "id": "vTBtlmzlgQUN"
   },
   "outputs": [],
   "source": [
    "array[0]"
   ]
  },
  {
   "cell_type": "code",
   "execution_count": null,
   "metadata": {
    "id": "tBZ0HPHLgeDc"
   },
   "outputs": [],
   "source": [
    "array[1:5]"
   ]
  },
  {
   "cell_type": "code",
   "execution_count": null,
   "metadata": {
    "id": "0FU3YcmKgmWG"
   },
   "outputs": [],
   "source": [
    "array[:5]"
   ]
  },
  {
   "cell_type": "code",
   "execution_count": null,
   "metadata": {
    "id": "2ND4QRgggqbV"
   },
   "outputs": [],
   "source": [
    "array[5:]"
   ]
  },
  {
   "cell_type": "code",
   "execution_count": null,
   "metadata": {
    "id": "8AU5C2aZgxs-"
   },
   "outputs": [],
   "source": [
    "array[2:7:2]"
   ]
  },
  {
   "cell_type": "markdown",
   "metadata": {
    "id": "UFoYM9Vtg33H"
   },
   "source": [
    "Liste mogu sadržavati vrijednosti različitih tipova"
   ]
  },
  {
   "cell_type": "code",
   "execution_count": null,
   "metadata": {
    "id": "sgHBH0SAvcYB"
   },
   "outputs": [],
   "source": [
    "[1, 1e-8, \"Hello\"]"
   ]
  },
  {
   "cell_type": "markdown",
   "metadata": {
    "id": "SPP1Cyajwpfa"
   },
   "source": [
    "### Mape\n",
    "Mape (riječnici) mogu pohraniti odnose između parova vrijednosti"
   ]
  },
  {
   "cell_type": "code",
   "execution_count": null,
   "metadata": {
    "id": "E9B-8IZ2hVJo"
   },
   "outputs": [],
   "source": [
    "m = {\"height\": 100., \n",
    "     \"width\": 20.,\n",
    "     \"depth\": 10.}\n",
    "m"
   ]
  },
  {
   "cell_type": "markdown",
   "metadata": {
    "id": "_sJCy0_chf3h"
   },
   "source": [
    "Dohvaćanje vrijednosti po key-u"
   ]
  },
  {
   "cell_type": "code",
   "execution_count": null,
   "metadata": {
    "id": "RyqblTcihk4i"
   },
   "outputs": [],
   "source": [
    "m[\"width\"]"
   ]
  },
  {
   "cell_type": "markdown",
   "metadata": {
    "id": "GaRxKo1qhmca"
   },
   "source": [
    "Provjera sadrži li mapa key"
   ]
  },
  {
   "cell_type": "code",
   "execution_count": null,
   "metadata": {
    "id": "WqOa9VOZh1OA"
   },
   "outputs": [],
   "source": [
    "\"name\" in m"
   ]
  },
  {
   "cell_type": "markdown",
   "metadata": {
    "id": "s5Zeyapsh6Go"
   },
   "source": [
    "Dodavanje nove key-value para"
   ]
  },
  {
   "cell_type": "code",
   "execution_count": null,
   "metadata": {
    "id": "O7iSJmrah-C1"
   },
   "outputs": [],
   "source": [
    "m[\"name\"] = \"rectangle\""
   ]
  },
  {
   "cell_type": "markdown",
   "metadata": {
    "id": "ILJJI_GFiBOy"
   },
   "source": [
    "Ili zamijeniti postojeći"
   ]
  },
  {
   "cell_type": "code",
   "execution_count": null,
   "metadata": {
    "id": "PMGZPVR3iDcN"
   },
   "outputs": [],
   "source": [
    "m[\"name\"] = \"RECTANGLE\""
   ]
  },
  {
   "cell_type": "markdown",
   "metadata": {
    "id": "0R5Wm0sFiFlp"
   },
   "source": [
    "Izbrisati key/vrijednost"
   ]
  },
  {
   "cell_type": "code",
   "execution_count": null,
   "metadata": {
    "id": "-cMBVYYEiHNT"
   },
   "outputs": [],
   "source": [
    "m.pop(\"name\")"
   ]
  },
  {
   "cell_type": "markdown",
   "metadata": {
    "id": "kdYzR2X0zWNE"
   },
   "source": [
    "### Tuples\n",
    "Tuples su slične listama, ali su nepromjenjivi -- ne mogu se mijenjati"
   ]
  },
  {
   "cell_type": "code",
   "execution_count": null,
   "metadata": {
    "id": "yJSXyvBqzBnc"
   },
   "outputs": [],
   "source": [
    "my_array = [1, 2, 3]\n",
    "my_tuple = (1, 2, 3)\n",
    "\n",
    "# This is OK\n",
    "my_array[0] = 100\n",
    "\n",
    "# This will raise an exception\n",
    "my_tuple[0] = 100"
   ]
  },
  {
   "cell_type": "markdown",
   "metadata": {
    "id": "IBeeqq6u1EP9"
   },
   "source": [
    "### Sets\n",
    "Sets su neuređene zbirke koje podržavaju brzo pretraživanje, umetanje, brisanje i spajanje."
   ]
  },
  {
   "cell_type": "code",
   "execution_count": null,
   "metadata": {
    "id": "I1aeG-bFzuL1"
   },
   "outputs": [],
   "source": [
    "animals = {\"cat\", \"dog\", \"elephant\"}\n",
    "animals"
   ]
  },
  {
   "cell_type": "markdown",
   "metadata": {
    "id": "IKTFuoVCiU4U"
   },
   "source": [
    "Provjeri je li neki element u setu"
   ]
  },
  {
   "cell_type": "code",
   "execution_count": null,
   "metadata": {
    "id": "M2SRdoJ9iZkt"
   },
   "outputs": [],
   "source": [
    "\"cat\" in animals"
   ]
  },
  {
   "cell_type": "markdown",
   "metadata": {
    "id": "IMPig3GCidQP"
   },
   "source": [
    "Operacije nad setom: union, intersection, itd."
   ]
  },
  {
   "cell_type": "code",
   "execution_count": null,
   "metadata": {
    "id": "zX06oDPPihJY"
   },
   "outputs": [],
   "source": [
    "animals.union({\"zebra\", \"llama\"})"
   ]
  },
  {
   "cell_type": "markdown",
   "metadata": {
    "id": "do27WDEZ1rKc"
   },
   "source": [
    "## Control flow"
   ]
  },
  {
   "cell_type": "markdown",
   "metadata": {
    "id": "ZRLfl1pTkw8w"
   },
   "source": [
    "if / elif"
   ]
  },
  {
   "cell_type": "code",
   "execution_count": null,
   "metadata": {
    "id": "6RNIP5pmk0a9"
   },
   "outputs": [],
   "source": [
    "a = int(input())\n",
    "if a > 6:\n",
    "    print(\"a is greater than 6\")\n",
    "elif a < 3:\n",
    "    print(\"a is less than 3\")\n",
    "else:\n",
    "    print(\"a is between 3 and 6\")"
   ]
  },
  {
   "cell_type": "markdown",
   "metadata": {
    "id": "iF11czrvk9Ve"
   },
   "source": [
    "Petlje"
   ]
  },
  {
   "cell_type": "code",
   "execution_count": null,
   "metadata": {
    "id": "0FKPTPIklBuR"
   },
   "outputs": [],
   "source": [
    "for i in [1, 2, 3, 4]:\n",
    "    print(i)"
   ]
  },
  {
   "cell_type": "markdown",
   "metadata": {},
   "source": [
    "Range"
   ]
  },
  {
   "cell_type": "code",
   "execution_count": null,
   "metadata": {},
   "outputs": [],
   "source": [
    "# Example 1:\n",
    "for i in range(10):\n",
    "    print(i)\n",
    "\n",
    "# Example 2:\n",
    "for i in range(1,10):\n",
    "    print(i)\n",
    "\n",
    "# Example 3:\n",
    "for i in range(1,10,2):\n",
    "    print(i)\n",
    "\n",
    "# Example 4:\n",
    "for i in range(20,10,-3):\n",
    "    print(i)"
   ]
  },
  {
   "cell_type": "markdown",
   "metadata": {},
   "source": [
    "Enumerate"
   ]
  },
  {
   "cell_type": "code",
   "execution_count": null,
   "metadata": {},
   "outputs": [],
   "source": [
    "# https://realpython.com/python-enumerate/\n",
    "\n",
    "values = [\"a\", \"b\", \"c\"]\n",
    "\n",
    "for count, value in enumerate(values):\n",
    "    print(count, value)"
   ]
  },
  {
   "cell_type": "markdown",
   "metadata": {},
   "source": [
    "zip"
   ]
  },
  {
   "cell_type": "code",
   "execution_count": null,
   "metadata": {},
   "outputs": [],
   "source": [
    "letters = ['a', 'b', 'c']\n",
    "numbers = [0, 1, 2]\n",
    "for l, n in zip(letters, numbers):\n",
    "    print(f'Letter: {l}')\n",
    "    print(f'Number: {n}')"
   ]
  },
  {
   "cell_type": "markdown",
   "metadata": {
    "id": "DEXi6o3KlSTw"
   },
   "source": [
    "Iteracije rječnika"
   ]
  },
  {
   "cell_type": "code",
   "execution_count": null,
   "metadata": {
    "id": "l4j34y5klVQD"
   },
   "outputs": [],
   "source": [
    "for k, v in m.items():\n",
    "    print(k, v)"
   ]
  },
  {
   "cell_type": "markdown",
   "metadata": {
    "id": "_82guvm2lb4Y"
   },
   "source": [
    "While petlja\n",
    "\n",
    "*Veoma rijetko se upotrebljava while petlja. Sljedeći primjer nije krakterističan za python!*"
   ]
  },
  {
   "cell_type": "code",
   "execution_count": null,
   "metadata": {
    "id": "_xAlRHDNlcsV"
   },
   "outputs": [],
   "source": [
    "stop = False\n",
    "i = 10\n",
    "while not stop:\n",
    "    i += 1\n",
    "    if i % 10 == 0:\n",
    "        stop = True\n",
    "        \n",
    "print(i)"
   ]
  },
  {
   "cell_type": "markdown",
   "metadata": {
    "id": "1XOUcES3U_7g"
   },
   "source": [
    "## List comprehensions"
   ]
  },
  {
   "cell_type": "code",
   "execution_count": null,
   "metadata": {},
   "outputs": [],
   "source": [
    "i = []\n",
    "for j in [1, 2, 3]:\n",
    "    i.append(j+1)\n",
    "i"
   ]
  },
  {
   "cell_type": "code",
   "execution_count": null,
   "metadata": {
    "id": "2ii1YsF1VFQt"
   },
   "outputs": [],
   "source": [
    "[i + 1 for i in [1, 2, 3]]"
   ]
  },
  {
   "cell_type": "markdown",
   "metadata": {
    "id": "sP1oejrKVUIo"
   },
   "source": [
    "Radi i za rječnike također"
   ]
  },
  {
   "cell_type": "code",
   "execution_count": null,
   "metadata": {
    "id": "adCDsD7CVOXi"
   },
   "outputs": [],
   "source": [
    "{str(i): i + 1 for i in [1, 2, 3]}"
   ]
  },
  {
   "cell_type": "markdown",
   "metadata": {
    "id": "Hr1sBDl6NBCt"
   },
   "source": [
    "## Funkcije"
   ]
  },
  {
   "cell_type": "markdown",
   "metadata": {
    "id": "GnLRc_CKxFsf"
   },
   "source": [
    "Definiranje funkcija"
   ]
  },
  {
   "cell_type": "code",
   "execution_count": null,
   "metadata": {
    "id": "TZJF3UL2M7fg"
   },
   "outputs": [],
   "source": [
    "def is_odd(a):\n",
    "    return a % 2 == 0\n",
    "\n",
    "is_odd(2)"
   ]
  },
  {
   "cell_type": "markdown",
   "metadata": {
    "id": "lPhb-mFxxNNp"
   },
   "source": [
    "Funkcije mogu biti definirane unutar funkcija"
   ]
  },
  {
   "cell_type": "code",
   "execution_count": null,
   "metadata": {
    "id": "VYbAIDuBxRne"
   },
   "outputs": [],
   "source": [
    "def is_odd(a):\n",
    "    \n",
    "    def is_divisible(number, base):\n",
    "        return number % base == 0\n",
    "    \n",
    "    return is_divisible(a, 2)\n",
    "\n",
    "is_odd(2)"
   ]
  },
  {
   "cell_type": "markdown",
   "metadata": {
    "id": "Hoh9vryhxckA"
   },
   "source": [
    "Možete dodijeliti predefinirane argumente."
   ]
  },
  {
   "cell_type": "code",
   "execution_count": null,
   "metadata": {
    "id": "SbjDzfrVfmF6"
   },
   "outputs": [],
   "source": [
    "def add_or_subtract(first, second, operation=\"sum\"):\n",
    "    if operation == \"sum\":\n",
    "        return first + second\n",
    "    elif operation == \"sub\":\n",
    "        return first - second\n",
    "    else:\n",
    "        print(\"Operation not permitted\")"
   ]
  },
  {
   "cell_type": "markdown",
   "metadata": {
    "id": "1Lp6YB6fxqpP"
   },
   "source": [
    "Varargs: veličina argumenta varijable"
   ]
  },
  {
   "cell_type": "code",
   "execution_count": null,
   "metadata": {
    "id": "181garp6xsKA"
   },
   "outputs": [],
   "source": [
    "def sum_all(*args):\n",
    "    # args is a list of arguments\n",
    "    result = 0\n",
    "    for arg in args:\n",
    "        result += arg\n",
    "    return result\n",
    "\n",
    "# Call vararg function\n",
    "print(\"Sum of all integers up to 10 =\", sum_all(1, 2, 3, 4, 5, 6, 7, 8, 9))"
   ]
  },
  {
   "cell_type": "markdown",
   "metadata": {
    "id": "dmKKnwyox7Ai"
   },
   "source": [
    "Keyword argumenti"
   ]
  },
  {
   "cell_type": "code",
   "execution_count": null,
   "metadata": {
    "id": "WJPliTlnx92u"
   },
   "outputs": [],
   "source": [
    "def print_pairs(**kwargs):\n",
    "    # kwargs is a map\n",
    "    for k, v in kwargs.items():\n",
    "        print(k, v)\n",
    "        \n",
    "print_pairs(a=1, b=2)"
   ]
  },
  {
   "cell_type": "markdown",
   "metadata": {
    "id": "51bg23Fmx-6b"
   },
   "source": [
    "Keyword-only argumenti"
   ]
  },
  {
   "cell_type": "code",
   "execution_count": null,
   "metadata": {
    "id": "RqZwL6WHyHPN"
   },
   "outputs": [],
   "source": [
    "def create_car(*, speed, size):\n",
    "    print(\"Car created with speed\", speed, \"and size\", size)\n",
    "    \n",
    "create_car(speed=9, size=3)"
   ]
  },
  {
   "cell_type": "markdown",
   "metadata": {
    "id": "k3Y-h7EAyYhS"
   },
   "source": [
    "Funkcije kao parametri\n",
    "\n",
    "Moguće je proslijediti funkciju kao argument, pretpostavlja se da operacija ovdje predstavlja funkciju"
   ]
  },
  {
   "cell_type": "code",
   "execution_count": null,
   "metadata": {
    "id": "b_JDJT_6mrqu"
   },
   "outputs": [],
   "source": [
    "def reduce(array, operation):\n",
    "    result = 0\n",
    "    for k, v in enumerate(array):\n",
    "        if k == 0:\n",
    "            result = v\n",
    "        else:\n",
    "            result = operation(v, result)\n",
    "  \n",
    "    return result"
   ]
  },
  {
   "cell_type": "markdown",
   "metadata": {
    "id": "X43dSGaQzHye"
   },
   "source": [
    "Primijenite poziv funkcije sa drugom funkciojm `add_or_subtract`\n"
   ]
  },
  {
   "cell_type": "code",
   "execution_count": null,
   "metadata": {
    "id": "6rE5TSZRzFWW"
   },
   "outputs": [],
   "source": [
    "one_to_nine = [1, 2, 3, 4, 5, 6, 7, 8, 9]\n",
    "print(one_to_nine)\n",
    "\n",
    "print(\"Sum of the array\")\n",
    "#The operation is infered from the default parameter of add_or_subtract\n",
    "reduce(one_to_nine, add_or_subtract)"
   ]
  },
  {
   "cell_type": "markdown",
   "metadata": {
    "id": "8tiErQ4PzdFH"
   },
   "source": [
    "### Lambde\n",
    "\n",
    "Funkcija se može definirati anonimno"
   ]
  },
  {
   "cell_type": "code",
   "execution_count": null,
   "metadata": {
    "id": "a8bWni3hzadd"
   },
   "outputs": [],
   "source": [
    "print(\"Product of the array\")\n",
    "reduce(one_to_nine, lambda x, y : x * y)"
   ]
  },
  {
   "cell_type": "markdown",
   "metadata": {
    "id": "8rBsR8TgzkhS"
   },
   "source": [
    "### Closures\n",
    "\n",
    "Funkcija može vratiti drugu funkciju s određenim ponašanjem ovisno o argumentima"
   ]
  },
  {
   "cell_type": "code",
   "execution_count": null,
   "metadata": {
    "id": "NQ9l5wxZm4SV"
   },
   "outputs": [],
   "source": [
    "def get_loss(op_reduce, op_foreach):\n",
    "  \n",
    "    def loss(a, b):\n",
    "        c = []\n",
    "        for av, bv in zip(a, b):\n",
    "            c.append(op_foreach(av, bv))\n",
    "        return op_reduce(c)\n",
    "  \n",
    "    return loss"
   ]
  },
  {
   "cell_type": "markdown",
   "metadata": {
    "id": "-L5B35yEz4Ic"
   },
   "source": [
    "Ova funkcija može pomoći u definiranju srednje kvadratne pogreške"
   ]
  },
  {
   "cell_type": "code",
   "execution_count": null,
   "metadata": {
    "id": "w4a2_Al4z4qW"
   },
   "outputs": [],
   "source": [
    "mse_loss = get_loss(lambda x : sum(x)/len(x), lambda a, b : (a - b) ** 2)"
   ]
  },
  {
   "cell_type": "markdown",
   "metadata": {
    "id": "jXVJNuY40ARh"
   },
   "source": [
    "Ili srednje apsolutne pogreške"
   ]
  },
  {
   "cell_type": "code",
   "execution_count": null,
   "metadata": {
    "id": "MYcFxRq70A4K"
   },
   "outputs": [],
   "source": [
    "mae_loss = get_loss(lambda x : sum(x)/len(x), lambda a, b : abs(a - b))"
   ]
  },
  {
   "cell_type": "markdown",
   "metadata": {
    "id": "FDKP5V-c0GY8"
   },
   "source": [
    "Možemo provjeriti radi li kao što je predviđeno"
   ]
  },
  {
   "cell_type": "code",
   "execution_count": null,
   "metadata": {
    "id": "oYIyTRmN0G6r"
   },
   "outputs": [],
   "source": [
    "list1 = [0, 1, 1, 3, 0, 2, 3]\n",
    "list2 = [1, 1, 2, 0, 0, 2, 3]\n",
    "\n",
    "list_mse = mse_loss(list1, list2)\n",
    "list_mae = mae_loss(list1, list2)\n",
    "\n",
    "print(\"Two lists:\\n\", list1, \"\\n\", list2)\n",
    "print(\"MSE Loss: {}\\nMAE Loss: {}\".format(list_mse, list_mae))"
   ]
  },
  {
   "cell_type": "markdown",
   "metadata": {
    "id": "LoPGG5zNAjoU"
   },
   "source": [
    "## Exception"
   ]
  },
  {
   "cell_type": "code",
   "execution_count": null,
   "metadata": {
    "id": "eYsGH9tQAlHr"
   },
   "outputs": [],
   "source": [
    "# Throw exception\n",
    "raise Exception\n",
    "\n",
    "raise Exception(\"Something went wrong\")\n",
    "raise ValueError\n",
    "raise IndexError\n",
    "raise StopIteration"
   ]
  },
  {
   "cell_type": "code",
   "execution_count": null,
   "metadata": {
    "id": "IwpCXA3nA3Ap"
   },
   "outputs": [],
   "source": [
    "# Catch exceptions\n",
    "try:\n",
    "    raise ValueError\n",
    "except ValueError:\n",
    "    print(\"Do something else\")\n",
    "finally:\n",
    "    print(\"This part runs always. It is useful for closing files or \"\n",
    "          \"releasing other resources\")"
   ]
  },
  {
   "cell_type": "markdown",
   "metadata": {
    "id": "p1cOGDXHCR-O"
   },
   "source": [
    "## Klase"
   ]
  },
  {
   "cell_type": "markdown",
   "metadata": {
    "id": "r-PruhWd02K0"
   },
   "source": [
    "Definicija klase"
   ]
  },
  {
   "cell_type": "code",
   "execution_count": null,
   "metadata": {
    "id": "IRXa51OfCPEk"
   },
   "outputs": [],
   "source": [
    "class Shape:\n",
    "    pass"
   ]
  },
  {
   "cell_type": "markdown",
   "metadata": {
    "id": "y93ArCva06GI"
   },
   "source": [
    "`shape` je objekt klase `Shape`"
   ]
  },
  {
   "cell_type": "code",
   "execution_count": null,
   "metadata": {
    "id": "0m2SgTiS06tB"
   },
   "outputs": [],
   "source": [
    "shape = Shape()"
   ]
  },
  {
   "cell_type": "markdown",
   "metadata": {
    "id": "F6zvhV8H1BVA"
   },
   "source": [
    "U legacy python-u se koristio način pisanja\n",
    "```python\n",
    "class Shape(object):\n",
    "```\n",
    "Ovo nije više potrebno\n",
    "osim ako ne očekujete da će netko pokrenuti vaš kod u legacy okruženju"
   ]
  },
  {
   "cell_type": "markdown",
   "metadata": {
    "id": "C-Kvdhg41Ju3"
   },
   "source": [
    "Malo više o definiranju klasa"
   ]
  },
  {
   "cell_type": "code",
   "execution_count": null,
   "metadata": {
    "id": "1tCXVcPAB4YQ"
   },
   "outputs": [],
   "source": [
    "class Shape:\n",
    "    class_field = 9\n",
    "    \n",
    "    def __init__(self, name):\n",
    "        self.name = name\n",
    "        self.value = 42\n",
    "    \n",
    "    def method(self, a):\n",
    "        return a * 2 + self.value\n",
    "\n",
    "shape = Shape(\"UUPZ\")\n",
    "print(shape.name)"
   ]
  },
  {
   "cell_type": "markdown",
   "metadata": {
    "id": "dKU0asYuazOF"
   },
   "source": [
    "## Imports\n",
    "\n",
    "Dodavanje novih paketa u python vrlo je jednostavno i mnogi su paketi dostupni. Ako želite neku biblioteku, velika je vjerojatnost da ju je netko drugi već napisao.\n",
    "\n",
    "Općenito, to izgledao ovako:"
   ]
  },
  {
   "cell_type": "code",
   "execution_count": null,
   "metadata": {
    "id": "VFeYVIqocjsm"
   },
   "outputs": [],
   "source": [
    "import time\n",
    "\n",
    "time.time()"
   ]
  },
  {
   "cell_type": "markdown",
   "metadata": {
    "id": "0pNMsOuJctzb"
   },
   "source": [
    "Možete odrediti koje dijelove paketa želite uvesti"
   ]
  },
  {
   "cell_type": "code",
   "execution_count": null,
   "metadata": {
    "id": "jfy8OQqwcr0A"
   },
   "outputs": [],
   "source": [
    "from time import time, sleep\n",
    "\n",
    "print(time())\n",
    "sleep(2)\n",
    "print(time())"
   ]
  },
  {
   "cell_type": "markdown",
   "metadata": {
    "id": "mSBeBMM-Vi-z"
   },
   "source": [
    "## Druga zanimljiva svojstva"
   ]
  },
  {
   "cell_type": "markdown",
   "metadata": {
    "id": "LrQ4hw8KVliz"
   },
   "source": [
    "Multiple assignment"
   ]
  },
  {
   "cell_type": "code",
   "execution_count": null,
   "metadata": {
    "id": "xq5p8zc9VqW8"
   },
   "outputs": [],
   "source": [
    "a, b = 10, 11"
   ]
  },
  {
   "cell_type": "markdown",
   "metadata": {
    "id": "8M8zrRNkVuHM"
   },
   "source": [
    "It works with any kind of list-like objects!"
   ]
  },
  {
   "cell_type": "code",
   "execution_count": null,
   "metadata": {
    "id": "bKPgc-E2Vxfp"
   },
   "outputs": [],
   "source": [
    "a, b = [10, 11]"
   ]
  },
  {
   "cell_type": "markdown",
   "metadata": {
    "id": "rXH3h0TVVz8r"
   },
   "source": [
    "Starred assignment expressions"
   ]
  },
  {
   "cell_type": "code",
   "execution_count": null,
   "metadata": {
    "id": "ydvlwtxOV819"
   },
   "outputs": [],
   "source": [
    "a, *b = [1, 2, 3, 4]\n",
    "print(b)"
   ]
  },
  {
   "cell_type": "markdown",
   "metadata": {
    "id": "FZ4l0DS_WB5-"
   },
   "source": [
    "Radi za prefikse i sufikse"
   ]
  },
  {
   "cell_type": "code",
   "execution_count": null,
   "metadata": {
    "id": "eX2_V2CRWHLh"
   },
   "outputs": [],
   "source": [
    "*a, b, c = [1, 2, 3, 4]\n",
    "print(a)"
   ]
  },
  {
   "cell_type": "markdown",
   "metadata": {
    "id": "XHmrP9ayaG6X"
   },
   "source": [
    "# Vježbe"
   ]
  },
  {
   "cell_type": "markdown",
   "metadata": {
    "id": "cUE9SvlVdc4_"
   },
   "source": [
    "## Vježba 1\n",
    "\n",
    "Napišite funkciju koja uzorkuje uniformni slučajni broj od `a` do `b`.\n",
    "\n",
    "Koristite funkciju `random.random` iz biblioteke `random`. Dokumentaciju možete pogledati [ovdje](https://docs.python.org/3.7/library/random.html)"
   ]
  },
  {
   "cell_type": "code",
   "execution_count": 2,
   "metadata": {
    "id": "Jy7ND3SRkeCj"
   },
   "outputs": [
    {
     "data": {
      "text/plain": [
       "1.1015711125849648"
      ]
     },
     "execution_count": 2,
     "metadata": {},
     "output_type": "execute_result"
    }
   ],
   "source": [
    "import random\n",
    "\n",
    "def sample_one(*, start, end):\n",
    "    return random.random() * (end - start) + start\n",
    "\n",
    "sample_one(start = 0, end = 50)    "
   ]
  },
  {
   "cell_type": "markdown",
   "metadata": {
    "id": "p7CIN4iWr3tx"
   },
   "source": [
    "## Vježba 2\n",
    "\n",
    "Napišite funkciju koja kreira listu duljine `n` sampleova kao što je to navedeno u Vježbi 1"
   ]
  },
  {
   "cell_type": "code",
   "execution_count": 4,
   "metadata": {
    "id": "_UFZLC4ssAm1"
   },
   "outputs": [
    {
     "data": {
      "text/plain": [
       "[25.227614841307055, 3.7500394731713405, 18.033801550909445]"
      ]
     },
     "execution_count": 4,
     "metadata": {},
     "output_type": "execute_result"
    }
   ],
   "source": [
    "def sample_many(*, start, end, n):\n",
    "    return[sample_one(start = start, end = end) for _ in range(n)]\n",
    "\n",
    "sample_many(start = 0, end = 50, n = 3)"
   ]
  },
  {
   "cell_type": "markdown",
   "metadata": {
    "id": "bDNxuKNHsI-L"
   },
   "source": [
    "## Vježba 3\n",
    "\n",
    "Napišite funkciju koja računa prosjek popisa brojeva."
   ]
  },
  {
   "cell_type": "code",
   "execution_count": 6,
   "metadata": {
    "id": "vhsHU8qXsH50"
   },
   "outputs": [
    {
     "data": {
      "text/plain": [
       "21.883092800132278"
      ]
     },
     "execution_count": 6,
     "metadata": {},
     "output_type": "execute_result"
    }
   ],
   "source": [
    "def average(array):\n",
    "    return sum(array) / len(array)\n",
    "\n",
    "average(sample_many(start = 0, end = 50, n = 3))"
   ]
  },
  {
   "cell_type": "markdown",
   "metadata": {
    "id": "4RS0grGJsUsK"
   },
   "source": [
    "## Vježba 4\n",
    "\n",
    "Napišite funkciju koja kreira `m` lista kao što je navedeno u Vježbi 2 te računa prosjek svake liste"
   ]
  },
  {
   "cell_type": "code",
   "execution_count": 11,
   "metadata": {
    "id": "CCl07aGwsTqY"
   },
   "outputs": [
    {
     "data": {
      "text/plain": [
       "[2.493896018484789,\n",
       " 2.343908374257944,\n",
       " 2.127803610023012,\n",
       " 2.5916807494862892,\n",
       " 2.4474829260259625,\n",
       " 2.5347766938251497,\n",
       " 2.3818413906145284,\n",
       " 2.5077442100366722,\n",
       " 2.5219789044442185,\n",
       " 2.339017918234116,\n",
       " 2.4012060706125014,\n",
       " 2.626751630784245,\n",
       " 2.3487322882521755,\n",
       " 2.7007680698815317,\n",
       " 2.8509487955562314,\n",
       " 2.7741188251619673,\n",
       " 2.640433260461043,\n",
       " 2.7593998634952324,\n",
       " 2.586140745035948,\n",
       " 2.372834692488352,\n",
       " 2.368512832775408,\n",
       " 2.533483011674588,\n",
       " 2.30157782236722,\n",
       " 2.588037595412707,\n",
       " 2.394821052224096,\n",
       " 2.830164008504215,\n",
       " 2.4920497690900394,\n",
       " 2.1514004089372962,\n",
       " 2.6283170744888666,\n",
       " 2.3309945287460976,\n",
       " 2.554601282769416,\n",
       " 2.3681125482624945,\n",
       " 2.383434598530904,\n",
       " 2.526829554447205,\n",
       " 2.7270989038801083,\n",
       " 2.3508957433570425,\n",
       " 2.387806744525952,\n",
       " 2.3428911993984785,\n",
       " 2.5849760547139624,\n",
       " 2.6631842213871626,\n",
       " 2.4666071795441793,\n",
       " 2.709589166219376,\n",
       " 2.2153873756953906,\n",
       " 2.5290148741962,\n",
       " 2.469066692908397,\n",
       " 2.5802515487878663,\n",
       " 2.4879012549578956,\n",
       " 2.266162130859902,\n",
       " 2.3732370342361992,\n",
       " 2.3097829351324473,\n",
       " 2.3568204316085426,\n",
       " 2.320265243346517,\n",
       " 2.566766660188106,\n",
       " 2.67391456874148,\n",
       " 2.409696150296538,\n",
       " 2.5830346536882858,\n",
       " 2.659924396850674,\n",
       " 2.2699363531299483,\n",
       " 2.6033234367307916,\n",
       " 2.145694464280865,\n",
       " 2.5630234281389916,\n",
       " 2.4008083564657166,\n",
       " 2.1346338252685495,\n",
       " 2.726812353839344,\n",
       " 2.4667244228245537,\n",
       " 2.6150079607415786,\n",
       " 2.3921273734433766,\n",
       " 2.77914926134055,\n",
       " 2.6307640547120457,\n",
       " 2.6329371520726,\n",
       " 2.922224485918583,\n",
       " 2.4074733302593456,\n",
       " 2.578604175236707,\n",
       " 2.590050995829911,\n",
       " 2.6654353411221363,\n",
       " 2.645271029597722,\n",
       " 2.3047997251858576,\n",
       " 2.3193052501577998,\n",
       " 2.4512535778644517,\n",
       " 2.3435818610119754,\n",
       " 2.616512154807219,\n",
       " 2.2560158967471637,\n",
       " 2.274127742637709,\n",
       " 2.346010738187651,\n",
       " 2.3951088671001184,\n",
       " 2.4828725271821552,\n",
       " 2.996836511457879,\n",
       " 2.800919384767625,\n",
       " 2.519789676531953,\n",
       " 2.365908680547632,\n",
       " 2.7466839390127635,\n",
       " 2.3951939999420984,\n",
       " 2.6220089126398425,\n",
       " 2.610403038335935,\n",
       " 2.4929157888488502,\n",
       " 2.6776757082113547,\n",
       " 2.394839084869061,\n",
       " 2.4307827913347726,\n",
       " 2.652345627136341,\n",
       " 2.320645650553021,\n",
       " 2.200036642231235,\n",
       " 2.5402877866617817,\n",
       " 2.337839104378297,\n",
       " 2.4858238780419857,\n",
       " 2.3464529681540096,\n",
       " 2.45192837853587,\n",
       " 2.7578398037242833,\n",
       " 2.4130758606229104,\n",
       " 2.36516538993992,\n",
       " 2.3807332486340234,\n",
       " 2.5426784809325627,\n",
       " 2.4776046417441138,\n",
       " 2.5280122978670385,\n",
       " 2.602379436444251,\n",
       " 2.488027623161527,\n",
       " 2.365195153758548,\n",
       " 2.6005971101111887,\n",
       " 2.6059246608674043,\n",
       " 2.607881908734153,\n",
       " 2.641985348901939,\n",
       " 2.692463745072917,\n",
       " 2.8021544819794246,\n",
       " 2.3739103683739944,\n",
       " 2.228250199069258,\n",
       " 2.3615179210928448,\n",
       " 2.0964876017188545,\n",
       " 2.356436852257512,\n",
       " 2.6611617333582247,\n",
       " 2.6947881562633507,\n",
       " 2.3675322436804573,\n",
       " 2.5119992459509377,\n",
       " 2.413069497505443,\n",
       " 2.4103882562386945,\n",
       " 2.8534592419288907,\n",
       " 2.509781195215884,\n",
       " 2.3495728603680512,\n",
       " 2.351180564192816,\n",
       " 2.692876397479594,\n",
       " 2.4045625368993915,\n",
       " 2.340085730522074,\n",
       " 2.501160835516475,\n",
       " 2.652181256267598,\n",
       " 2.59767218781906,\n",
       " 2.3599256106926263,\n",
       " 2.4814675183670585,\n",
       " 2.5977143486523464,\n",
       " 2.470064127621255,\n",
       " 2.714596337281015,\n",
       " 2.3679518252241807,\n",
       " 2.572343059335057,\n",
       " 2.321088221068534,\n",
       " 2.4532085081102575,\n",
       " 2.486536595014342,\n",
       " 2.3742052869725905,\n",
       " 2.653754962972295,\n",
       " 2.718652854435977,\n",
       " 2.5206709053380134,\n",
       " 2.4465915058222754,\n",
       " 2.2816443100698782,\n",
       " 2.4761221594442997,\n",
       " 2.6116144299451274,\n",
       " 2.2773706125513997,\n",
       " 2.583995264697624,\n",
       " 2.3408125204882784,\n",
       " 2.240914338777985,\n",
       " 2.4769468263191494,\n",
       " 2.6192057111629894,\n",
       " 2.5662290693235987,\n",
       " 2.5887742980693855,\n",
       " 2.4927062815426924,\n",
       " 2.517129718643068,\n",
       " 2.3649974565987084,\n",
       " 2.482939459092641,\n",
       " 2.634696264724181,\n",
       " 2.458111011157784,\n",
       " 2.666375946461951,\n",
       " 2.308977361670135,\n",
       " 2.561349639633748,\n",
       " 2.6001558886960394,\n",
       " 2.4133189467944574,\n",
       " 2.1841083188031205,\n",
       " 2.4949389082897566,\n",
       " 2.4493281931196207,\n",
       " 2.3810244747410834,\n",
       " 2.601190025210836,\n",
       " 2.5566373756113507,\n",
       " 2.6178173814668657,\n",
       " 2.6876247610359973,\n",
       " 2.393000676131688,\n",
       " 2.399366997732775,\n",
       " 2.5061829023593036,\n",
       " 2.5117273597287393,\n",
       " 2.747344455755503,\n",
       " 2.3841408250073575,\n",
       " 2.3575480812552168,\n",
       " 2.506976576020621,\n",
       " 2.3874991923107456,\n",
       " 2.4099816986648634,\n",
       " 2.43413414732869,\n",
       " 2.5371809890722217,\n",
       " 2.285341125231428,\n",
       " 2.5950744640135213,\n",
       " 2.5129048901736635,\n",
       " 2.6205064324935257,\n",
       " 2.39497244327002,\n",
       " 2.5870826042593773,\n",
       " 2.383207516629705,\n",
       " 2.2496243946731944,\n",
       " 2.319807528573552,\n",
       " 2.6303922656621466,\n",
       " 2.377997325726912,\n",
       " 2.6477145538798452,\n",
       " 2.7279616718036617,\n",
       " 2.335590533833022,\n",
       " 2.4078837648375364,\n",
       " 2.6160414766815605,\n",
       " 2.7393557568300997,\n",
       " 2.4332263263904745,\n",
       " 2.4735760700159948,\n",
       " 2.3964044567201146,\n",
       " 2.5506876353409647,\n",
       " 2.4072940748700167,\n",
       " 2.359614661911905,\n",
       " 2.2416881178517514,\n",
       " 2.536363263494467,\n",
       " 2.7060628782272915,\n",
       " 2.614616295099623,\n",
       " 2.4699567701989125,\n",
       " 2.471525394870026,\n",
       " 2.477881015395498,\n",
       " 2.1784671556613855,\n",
       " 2.469284346234861,\n",
       " 2.5160324861899697,\n",
       " 2.7435020373895393,\n",
       " 2.485942420131017,\n",
       " 2.281935024443951,\n",
       " 2.626778579022534,\n",
       " 2.5305649322298325,\n",
       " 2.784351561750392,\n",
       " 2.4836453253550004,\n",
       " 2.5102579147154085,\n",
       " 2.270740490644783,\n",
       " 2.4547650345008454,\n",
       " 2.710147611514501,\n",
       " 2.498468338833005,\n",
       " 2.6199509834746904,\n",
       " 2.6999177552708256,\n",
       " 2.665373698850565,\n",
       " 2.506636506446346,\n",
       " 2.210115465568202,\n",
       " 2.473550186877832,\n",
       " 2.537991289386748,\n",
       " 2.4223826550448933,\n",
       " 2.3910066254262414,\n",
       " 2.643299015721674,\n",
       " 2.7791601340738583,\n",
       " 2.5607530107489227,\n",
       " 2.4984274383807255,\n",
       " 2.510896588662954,\n",
       " 2.6074151380212647,\n",
       " 2.5775878506794587,\n",
       " 2.295693848219349,\n",
       " 2.285286664589055,\n",
       " 2.365464415096136,\n",
       " 2.370480577979674,\n",
       " 2.4261099904477823,\n",
       " 2.626843441178141,\n",
       " 2.7322069639482063,\n",
       " 2.4782009821837825,\n",
       " 2.628268138032408,\n",
       " 2.515338846044131,\n",
       " 2.7300174582454884,\n",
       " 2.6461832256980062,\n",
       " 2.77923876859691,\n",
       " 2.0419242088677785,\n",
       " 2.436958428343168,\n",
       " 2.5413862552377426,\n",
       " 2.4548946586347724,\n",
       " 2.4716450289991565,\n",
       " 2.48738288714119,\n",
       " 2.4258379689416483,\n",
       " 2.529731495445298,\n",
       " 2.3340469764651184,\n",
       " 2.3204662530141387,\n",
       " 2.482921458166846,\n",
       " 2.593506661998884,\n",
       " 2.4823994140118026,\n",
       " 2.696204009937205,\n",
       " 2.6405854176752195,\n",
       " 2.3185061764374164,\n",
       " 2.386292525282732,\n",
       " 2.486920580713606,\n",
       " 2.818898979197463,\n",
       " 2.6054321753253764,\n",
       " 2.406626536272208,\n",
       " 2.38918544024823,\n",
       " 2.4754540571920427,\n",
       " 2.7432583872789014,\n",
       " 2.4378936014180974,\n",
       " 2.5721745566107743,\n",
       " 2.5853103050145267,\n",
       " 2.575727485497763,\n",
       " 2.5320079340836887,\n",
       " 2.4964078861986208,\n",
       " 2.4073484864019705,\n",
       " 2.55188841018788,\n",
       " 2.4194964978908255,\n",
       " 2.6481495178716,\n",
       " 2.610700842202026,\n",
       " 2.41621936246019,\n",
       " 2.397242496611072,\n",
       " 2.229157901179539,\n",
       " 2.3035897045230964,\n",
       " 2.5355411363168265,\n",
       " 2.6294239493800715,\n",
       " 2.6592793791530824,\n",
       " 2.4358045400240274,\n",
       " 2.278805349847183,\n",
       " 2.5820614638549513,\n",
       " 2.632631496831887,\n",
       " 2.5114740733583347,\n",
       " 2.5773255050723183,\n",
       " 2.409999822507182,\n",
       " 2.537274856925835,\n",
       " 2.8088406761246536,\n",
       " 2.623188926087151,\n",
       " 2.6858311602438483,\n",
       " 2.4763549910020206,\n",
       " 2.352638032575221,\n",
       " 2.728998682494498,\n",
       " 2.360382539072679,\n",
       " 2.7552033908566655,\n",
       " 2.448775449620071,\n",
       " 2.1756323407099765,\n",
       " 2.5400565119684804,\n",
       " 2.515720284560688,\n",
       " 2.469966052692156,\n",
       " 2.552182022064984,\n",
       " 2.5136076120052833,\n",
       " 2.5550541604301196,\n",
       " 2.3416643671275716,\n",
       " 2.5467923344176224,\n",
       " 2.6632625158247185,\n",
       " 2.537817516908051,\n",
       " 2.47076117165548,\n",
       " 2.2422283749026617,\n",
       " 2.210376677633885,\n",
       " 2.929555233128356,\n",
       " 2.7492985763059643,\n",
       " 2.6450903991182964,\n",
       " 2.729930409986091,\n",
       " 2.4099379057700294,\n",
       " 2.7008174843249875,\n",
       " 2.570825725206691,\n",
       " 2.361168961478128,\n",
       " 2.733406603710476,\n",
       " 2.537454386351917,\n",
       " 2.269946332354504,\n",
       " 2.5094484722458037,\n",
       " 2.4791683111586567,\n",
       " 2.5859535673691023,\n",
       " 2.3484999398787822,\n",
       " 2.6233056983801566,\n",
       " 2.348485180851174,\n",
       " 2.5498908720114697,\n",
       " 2.6026326174134398,\n",
       " 2.378137405686486,\n",
       " 2.462827486330546,\n",
       " 2.375919912397839,\n",
       " 2.722446166707731,\n",
       " 2.50474575167846,\n",
       " 2.62447630958454,\n",
       " 2.547434405273707,\n",
       " 2.411025035704272,\n",
       " 2.5781772514140306,\n",
       " 2.3482254193813596,\n",
       " 2.3837504636635676,\n",
       " 2.6089144867613725,\n",
       " 2.67527416133455,\n",
       " 2.448999803255193,\n",
       " 2.353077764072942,\n",
       " 2.4541734348495314,\n",
       " 2.3836173751793326,\n",
       " 2.59651931399559,\n",
       " 2.5795414510911074,\n",
       " 2.7252191586234438,\n",
       " 2.260295339268633,\n",
       " 2.4021319600792155,\n",
       " 2.452230204450609,\n",
       " 2.5698305549928233,\n",
       " 2.4449804482978585,\n",
       " 2.4365197485094443,\n",
       " 2.4613630689039003,\n",
       " 2.656217156682235,\n",
       " 2.5308940194084673,\n",
       " 2.516548125542567,\n",
       " 2.575570787275463,\n",
       " 2.5652358343093424,\n",
       " 2.622286764309838,\n",
       " 2.325871802613874,\n",
       " 2.609143546513156,\n",
       " 2.644706082018165,\n",
       " 2.4963895761270662,\n",
       " 2.5359849754437715,\n",
       " 2.3312128955722873,\n",
       " 2.7206189824895524,\n",
       " 2.520470821725158,\n",
       " 2.420920531324262,\n",
       " 2.24618172686716,\n",
       " 2.1741622583812643,\n",
       " 2.594195652205648,\n",
       " 2.500766475829505,\n",
       " 2.339633238877336,\n",
       " 2.498528591002555,\n",
       " 2.5704095257095387,\n",
       " 2.279733992088316,\n",
       " 2.3380327783655996,\n",
       " 2.5268493148203355,\n",
       " 2.4586554522170085,\n",
       " 2.4208826367783853,\n",
       " 2.5625457455404432,\n",
       " 2.650163908573895,\n",
       " 2.7409372109068095,\n",
       " 2.6600467572159583,\n",
       " 2.3277806716402867,\n",
       " 2.4523212682686473,\n",
       " 2.4088040446661685,\n",
       " 2.2711841162533837,\n",
       " 2.429454883885401,\n",
       " 2.442750946956078,\n",
       " 2.330195194615027,\n",
       " 2.257215434482526,\n",
       " 2.60975058380246,\n",
       " 2.3047622151060483,\n",
       " 2.461447506941128,\n",
       " 2.2976993675609862,\n",
       " 2.682173900032232,\n",
       " 2.614725652110282,\n",
       " 2.179115181871322,\n",
       " 2.231823226772357,\n",
       " 2.280266942833742,\n",
       " 2.4931054001484125,\n",
       " 2.6766736419012993,\n",
       " 2.6039458108888294,\n",
       " 2.8680035918428133,\n",
       " 2.3732909159956592,\n",
       " 2.5414727860526285,\n",
       " 2.572262207341445,\n",
       " 2.634467733921718,\n",
       " 2.1039327364895573,\n",
       " 2.741016996405601,\n",
       " 2.393473307474253,\n",
       " 2.6394058749387805,\n",
       " 2.664590879917358,\n",
       " 2.298004989791819,\n",
       " 2.4085523518741305,\n",
       " 2.461615302446391,\n",
       " 2.3735804976046717,\n",
       " 2.521508598399466,\n",
       " 2.7559935532779343,\n",
       " 2.6327700310106166,\n",
       " 2.3272268351074503,\n",
       " 2.483259892856016,\n",
       " 2.5624633649673325,\n",
       " 2.69295855509734,\n",
       " 2.3403038703768226,\n",
       " 2.6139683635122593,\n",
       " 2.5142067655747193,\n",
       " 2.266122420865892,\n",
       " 2.6894633357158493,\n",
       " 2.7361475716078725,\n",
       " 2.373480952056317,\n",
       " 2.371730635787635,\n",
       " 2.6453589722988577,\n",
       " 2.5984334582827877,\n",
       " 2.505050555333854,\n",
       " 2.2740000462366647,\n",
       " 2.4073873844218814,\n",
       " 2.481757242083781,\n",
       " 2.573529411329236,\n",
       " 2.5699139734104857,\n",
       " 2.632138927191056,\n",
       " 2.3590923675147777,\n",
       " 2.5263246752595094,\n",
       " 2.5805486232075108,\n",
       " 3.0644578248924628,\n",
       " 2.4800568003645753,\n",
       " 2.473804151154812,\n",
       " 2.4310217570545705,\n",
       " 2.309775224507879,\n",
       " 2.3257452790538515,\n",
       " 2.7115334391282846,\n",
       " 2.431989072429367,\n",
       " 2.2500265043202123,\n",
       " 2.460757819876174,\n",
       " 2.368354356831288,\n",
       " 2.4438207523156645,\n",
       " 2.569083017098585,\n",
       " 2.5160607737946474,\n",
       " 2.6153583232312383,\n",
       " 2.3030252082399625,\n",
       " 2.5914934370561182,\n",
       " 2.556767118186678,\n",
       " 2.583664464039958,\n",
       " 2.6923453109465316,\n",
       " 2.53562929112772,\n",
       " 2.5152459960186713,\n",
       " 2.602028718254214,\n",
       " 2.2983875553621385,\n",
       " 2.3936634729362805,\n",
       " 2.6670937051866908,\n",
       " 2.5932135120801014,\n",
       " 2.3443290560110985,\n",
       " 2.6648587493064855,\n",
       " 2.259668136802584,\n",
       " 2.6517317374345923,\n",
       " 2.6391399524760777,\n",
       " 2.3952193702421045,\n",
       " 2.6625986976995795,\n",
       " 2.5179229396755307,\n",
       " 2.539922307726919,\n",
       " 2.6030369003497906,\n",
       " 2.4855156856294873,\n",
       " 2.4418156928372032,\n",
       " 2.4082868837607374,\n",
       " 2.360769852525946,\n",
       " 2.7292328837901056,\n",
       " 2.5726241410381907,\n",
       " 2.498696298004214,\n",
       " 2.3279753907854475,\n",
       " 2.6631741704581526,\n",
       " 2.4509342108413112,\n",
       " 2.610406913087282,\n",
       " 2.7417566888510847,\n",
       " 2.666520016970444,\n",
       " 2.508048420829464,\n",
       " 2.383018099692085,\n",
       " 2.6169377958098945,\n",
       " 2.359367678703125,\n",
       " 2.7222816111787678,\n",
       " 2.177705834075949,\n",
       " 2.6541354712444267,\n",
       " 2.3910408715635465,\n",
       " 2.7569449341601806,\n",
       " 2.3287075798378476,\n",
       " 2.3905531433146026,\n",
       " 2.6053371720975975,\n",
       " 2.5912245208169855,\n",
       " 2.590579937634986,\n",
       " 2.4559460129796973,\n",
       " 2.278411045996308,\n",
       " 2.419191907212303,\n",
       " 2.4108214186356647,\n",
       " 2.6000840408652914,\n",
       " 2.4139377455308986,\n",
       " 2.4842314209084613,\n",
       " 2.6661197586738052,\n",
       " 2.6098305057165816,\n",
       " 2.4639395919429994,\n",
       " 2.4592947174008035,\n",
       " 2.2683107956327633,\n",
       " 2.3377338309691464,\n",
       " 2.4998404468568634,\n",
       " 2.5313754879127885,\n",
       " 2.6555363302166923,\n",
       " 2.347115815055865,\n",
       " 2.4177426678734446,\n",
       " 2.7739167116532526,\n",
       " 2.575212944352561,\n",
       " 2.480335623383329,\n",
       " 2.577202071114522,\n",
       " 2.5546199444962485,\n",
       " 2.5978981757287234,\n",
       " 2.4279738994928666,\n",
       " 2.3500373325629274,\n",
       " 2.3677250640015965,\n",
       " 2.6281338564240917,\n",
       " 2.436268586459611,\n",
       " 2.4313426588986973,\n",
       " 2.6010843126200944,\n",
       " 2.5920772142135444,\n",
       " 2.610874078532585,\n",
       " 2.6019222955123382,\n",
       " 2.417973240183551,\n",
       " 2.4284213763798057,\n",
       " 2.4476416278755533,\n",
       " 2.2928473752935825,\n",
       " 2.65159218497259,\n",
       " 2.4446937651434784,\n",
       " 2.4777355324610593,\n",
       " 2.3194205931039256,\n",
       " 2.626150115149417,\n",
       " 2.745150655540039,\n",
       " 2.4408224878889313,\n",
       " 2.3056639485446384,\n",
       " 2.330964305574342,\n",
       " 2.7657917625735484,\n",
       " 2.415809257963996,\n",
       " 2.4447821479323473,\n",
       " 2.1301463616320273,\n",
       " 2.4849377924416336,\n",
       " 2.393057032996063,\n",
       " 2.3890884253830595,\n",
       " 2.53875974652515,\n",
       " 2.7783201389288923,\n",
       " 2.468729233473988,\n",
       " 2.4228193010097483,\n",
       " 2.416547334917523,\n",
       " 2.36652691630628,\n",
       " 2.5475039404439452,\n",
       " 2.769980607630009,\n",
       " 2.6019149203760703,\n",
       " 2.6223073573670934,\n",
       " 2.3656515687504465,\n",
       " 2.397242494268057,\n",
       " 2.2394332548502156,\n",
       " 2.377192562178565,\n",
       " 2.555053550548801,\n",
       " 2.4125630510833123,\n",
       " 2.584463263437624,\n",
       " 2.6065285166028143,\n",
       " 2.4633414911092135,\n",
       " 2.3860739161120765,\n",
       " 2.63320274026194,\n",
       " 2.5756759411373578,\n",
       " 2.6848401483463173,\n",
       " 2.691936642665246,\n",
       " 2.490972409292202,\n",
       " 2.447004678459719,\n",
       " 2.362119991973702,\n",
       " 2.3981042221789863,\n",
       " 2.5831656053609025,\n",
       " 2.428111964522732,\n",
       " 2.5095031259701113,\n",
       " 2.441755206486105,\n",
       " 2.364516762768945,\n",
       " 2.549761107591387,\n",
       " 2.4913938731028766,\n",
       " 2.0928947054310596,\n",
       " 2.3619656466150376,\n",
       " 2.60928400958569,\n",
       " 2.5833676987911884,\n",
       " 2.5656468544084214,\n",
       " 2.424277179235694,\n",
       " 2.6577811077181277,\n",
       " 2.2363593370101267,\n",
       " 2.5953484000082843,\n",
       " 2.6129858416553278,\n",
       " 2.32425325413222,\n",
       " 2.621779817842393,\n",
       " 2.46758324831405,\n",
       " 2.5779840216655914,\n",
       " 2.4765154372850473,\n",
       " 2.5376591309735677,\n",
       " 2.4545944835124085,\n",
       " 2.6879248990150404,\n",
       " 2.339834241494019,\n",
       " 2.3518486693582,\n",
       " 2.413504091086361,\n",
       " 2.394918936996308,\n",
       " 2.7108845379360487,\n",
       " 2.3839044289319964,\n",
       " 2.3687744149999506,\n",
       " 2.7122770432446646,\n",
       " 2.591778578066829,\n",
       " 2.6284326352204554,\n",
       " 2.34869906627558,\n",
       " 2.211658404355528,\n",
       " 2.6513734562386753,\n",
       " 2.431735653082923,\n",
       " 2.3014606081613054,\n",
       " 2.486458126220635,\n",
       " 2.402854063548318,\n",
       " 2.5535376298811197,\n",
       " 2.577520771071051,\n",
       " 2.4505499508307373,\n",
       " 2.700897328435505,\n",
       " 2.5591823490241388,\n",
       " 2.4850678600211564,\n",
       " 2.377548239915227,\n",
       " 2.4803873160199905,\n",
       " 2.653186511286445,\n",
       " 2.5207553699405083,\n",
       " 2.545297334842997,\n",
       " 2.6750090062929672,\n",
       " 2.4604230711428627,\n",
       " 2.434355237698242,\n",
       " 2.620455984777799,\n",
       " 2.5707776104346767,\n",
       " 2.362913764051784,\n",
       " 2.4978064943874876,\n",
       " 2.342116829422283,\n",
       " 2.3924747212170816,\n",
       " 2.343759281781283,\n",
       " 2.453327422202503,\n",
       " 2.5858559609882685,\n",
       " 2.3043997755270316,\n",
       " 2.382014643001538,\n",
       " 2.2781459129687414,\n",
       " 2.671861033131854,\n",
       " 2.4652709962394455,\n",
       " 2.8363785341894423,\n",
       " 2.709475913050542,\n",
       " 2.6018292617588186,\n",
       " 2.6873990426355125,\n",
       " 2.3907135759798783,\n",
       " 2.5345241109775265,\n",
       " 2.6171933891528374,\n",
       " 2.655285640231727,\n",
       " 2.7420407424609667,\n",
       " 2.294691174172984,\n",
       " 2.6302313034826947,\n",
       " 2.5314436439770778,\n",
       " 2.452501540716932,\n",
       " 2.6203914870483285,\n",
       " 2.3898775857559365,\n",
       " 2.453662856841495,\n",
       " 2.3250562275853563,\n",
       " 2.244626014833393,\n",
       " 2.6839795503560855,\n",
       " 2.2643648192775414,\n",
       " 2.7937750230260048,\n",
       " 2.514273008460974,\n",
       " 2.531719458007768,\n",
       " 2.6821270493376064,\n",
       " 2.4196667224100277,\n",
       " 2.3657665858031556,\n",
       " 2.423045888680781,\n",
       " 2.7495228693004536,\n",
       " 2.3620398358946484,\n",
       " 2.5387610853958007,\n",
       " 2.4865561911143583,\n",
       " 2.5170614279493746,\n",
       " 2.580415343535891,\n",
       " 2.8141246540627254,\n",
       " 2.572442246150701,\n",
       " 2.4028861757732503,\n",
       " 2.550742223297478,\n",
       " 2.678681702006798,\n",
       " 2.501466069964066,\n",
       " 2.6640700217286626,\n",
       " 2.4358875021274695,\n",
       " 2.399883005790627,\n",
       " 2.4809051786494147,\n",
       " 2.3830261049598445,\n",
       " 2.5517061890316284,\n",
       " 2.3443964954068335,\n",
       " 2.5806555753577696,\n",
       " 2.6920160674852323,\n",
       " 2.5382735291061866,\n",
       " 2.4582428664369234,\n",
       " 2.423505034251454,\n",
       " 2.6056526202044834,\n",
       " 2.498960934277932,\n",
       " 2.573396417450569,\n",
       " 2.589647660907283,\n",
       " 2.5207910715236137,\n",
       " 2.6595852564104034,\n",
       " 2.0823249655511575,\n",
       " 2.3807482021636144,\n",
       " 2.408336091549684,\n",
       " 2.705980054661527,\n",
       " 2.4891901371506204,\n",
       " 2.4788297493644795,\n",
       " 2.532553404561018,\n",
       " 2.4852673852608267,\n",
       " 2.656556901276832,\n",
       " 2.465901050385526,\n",
       " 2.6791722734003987,\n",
       " 2.3310034607024095,\n",
       " 2.622614443094784,\n",
       " 2.464573508174149,\n",
       " 2.591448108895199,\n",
       " 2.3142644995372414,\n",
       " 2.699951166945551,\n",
       " 2.653521775660765,\n",
       " 2.7203904889426633,\n",
       " 2.443515369632376,\n",
       " 2.62270540048699,\n",
       " 2.3259406254691,\n",
       " 2.4870698977329426,\n",
       " 2.506111190921444,\n",
       " 2.4293052786940463,\n",
       " 2.464413751592811,\n",
       " 2.6541120124681656,\n",
       " 2.345977247129226,\n",
       " 2.584883400279088,\n",
       " 2.421156529624737,\n",
       " 2.633483745926566,\n",
       " 2.34317142523131,\n",
       " 2.6740791090574216,\n",
       " 2.544615773713592,\n",
       " 2.5335427402560757,\n",
       " 2.539531048889699,\n",
       " 2.535511892272699,\n",
       " 2.289424294443217,\n",
       " 2.3647170610115773,\n",
       " 2.292623674160536,\n",
       " 2.7972671952212567,\n",
       " 2.57671242649412,\n",
       " 2.714527997374921,\n",
       " 2.7936512128069575,\n",
       " 2.6577087797912977,\n",
       " 2.4260573162356467,\n",
       " 2.237943960254794,\n",
       " 2.684080884791884,\n",
       " 2.5940929755056517,\n",
       " 2.68054976900514,\n",
       " 2.5214819052512483,\n",
       " 2.356884308827187,\n",
       " 2.409410835573858,\n",
       " 2.756927182455442,\n",
       " 2.795852923856249,\n",
       " 2.6483275355170472,\n",
       " 2.6724203740024155,\n",
       " 2.253114864715718,\n",
       " 2.55745968462875,\n",
       " 2.494137924097658,\n",
       " 2.4822368670954758,\n",
       " 2.7640181316526564,\n",
       " 2.710186616577838,\n",
       " 2.4679250383685756,\n",
       " 2.9730355806886153,\n",
       " 2.310725423634455,\n",
       " 2.392656728765064,\n",
       " 2.4535852645087233,\n",
       " 2.566158478235603,\n",
       " 2.43347571558407,\n",
       " 2.555607206062819,\n",
       " 2.712397439935772,\n",
       " 2.239547997569863,\n",
       " 2.555029134886885,\n",
       " 2.726237617505677,\n",
       " 2.6935886338528934,\n",
       " 2.4939395959836457,\n",
       " 2.6053006311542255,\n",
       " 2.4684248423790778,\n",
       " 2.509330225718096,\n",
       " 2.5721390191062095,\n",
       " 2.564022001938964,\n",
       " 2.354131697662314,\n",
       " 2.712817874027812,\n",
       " 2.620736860232634,\n",
       " 2.5583754493493545,\n",
       " 2.4871577859225416,\n",
       " 2.4286261031306373,\n",
       " 2.4640615433307023,\n",
       " 2.539056590978828,\n",
       " 2.4392614773933636,\n",
       " 2.5240288855246296,\n",
       " 2.7398935301238323,\n",
       " 2.5221782186815593,\n",
       " 2.3372503037081995,\n",
       " 2.6729391877478497,\n",
       " 2.500312005573801,\n",
       " 2.573895942867186,\n",
       " 2.6131885461424065,\n",
       " 2.720979225035854,\n",
       " 2.3479192489317326,\n",
       " 2.66658639750044,\n",
       " 2.467318850249514,\n",
       " 2.2026756427785306,\n",
       " 2.397004300422676,\n",
       " 2.6839992834935718,\n",
       " 2.5873248612604374,\n",
       " 2.614469724594342,\n",
       " 2.774433535598114,\n",
       " 2.36124008781109,\n",
       " 2.612442163450061,\n",
       " 2.4419904587176644,\n",
       " 2.4079434598439575,\n",
       " 2.5209152479190053,\n",
       " 2.709483232290548,\n",
       " 2.528441243462294,\n",
       " 2.2912027148535064,\n",
       " 2.590305448975055,\n",
       " 2.4849150298361717,\n",
       " 2.714587817175234,\n",
       " 2.679503394519806,\n",
       " 2.7679148788899517,\n",
       " 2.316291028069615,\n",
       " 2.486282955621213,\n",
       " 2.482308336047422,\n",
       " 2.611261414316969,\n",
       " 2.3791676795939622,\n",
       " 2.5705388710942167,\n",
       " 2.3157294200069374,\n",
       " 2.6696751984087843,\n",
       " 2.2507854912423575,\n",
       " 2.4984903156480076,\n",
       " 2.398300149873574,\n",
       " 2.6662088754289868,\n",
       " 2.5985056212482713,\n",
       " 2.646595001411073,\n",
       " 2.5146163105335204,\n",
       " 2.2937912568348158,\n",
       " 2.4055220066014242,\n",
       " 2.598609520497884,\n",
       " 2.6818390616589527,\n",
       " 2.5047613344529402,\n",
       " 2.5793408060514222,\n",
       " 2.6881968568108947,\n",
       " 2.605398694553031,\n",
       " 2.360502357030862,\n",
       " 2.285388552657387,\n",
       " 2.7734677444074105,\n",
       " 2.5430129620394397,\n",
       " 2.5729764035356677,\n",
       " 2.3281472925889903,\n",
       " 2.2145951189307054,\n",
       " 2.1828658385983255,\n",
       " 2.425581134627823,\n",
       " 2.3704266401283562,\n",
       " 2.6059638475950226,\n",
       " 2.571841895721186,\n",
       " 2.558105123411512,\n",
       " 2.3710179634867536,\n",
       " 2.6056340419239468,\n",
       " 2.4435002136420207,\n",
       " 2.3139439726901325,\n",
       " 2.4649768587794902,\n",
       " 2.4555100161536787,\n",
       " 2.3918291781675025,\n",
       " 2.6524174301230077,\n",
       " 2.2499726279665326,\n",
       " 2.6874466311195366,\n",
       " 2.7504457346404276,\n",
       " 2.5783584468889624,\n",
       " 2.5960023832370633,\n",
       " 2.490197936947,\n",
       " 2.4823819821238953,\n",
       " 2.536077625690048,\n",
       " 2.306648580808831,\n",
       " 2.6503405938750917,\n",
       " 2.4022924924274145,\n",
       " 2.265086157912345,\n",
       " 2.218356567773636,\n",
       " 2.517728384161939,\n",
       " 2.5497560048130126,\n",
       " 2.330799421253036,\n",
       " 2.5752828922974755,\n",
       " 2.5845498078530675,\n",
       " 2.495179480314568,\n",
       " 2.210973318993251,\n",
       " 2.5738771599203,\n",
       " 2.7998031849646314,\n",
       " 2.437568434683895,\n",
       " 2.3470811083438425,\n",
       " 2.3329420890755417,\n",
       " 2.3846247212863427,\n",
       " 2.5092837475266974,\n",
       " 2.6559720283899746,\n",
       " 2.647441693374904,\n",
       " 2.258232850927246,\n",
       " 2.6007072992258484,\n",
       " 2.6816012618445377,\n",
       " 2.560405305030231,\n",
       " 2.518161907935386,\n",
       " 2.3110516938913737,\n",
       " 2.761325373749008,\n",
       " 2.3372425691098866,\n",
       " 2.2847538130949134,\n",
       " 2.470481275685742,\n",
       " 2.542678483338583,\n",
       " 2.318849107222947,\n",
       " 2.234051827994233,\n",
       " 2.7128616069594864,\n",
       " 2.5561313444123392,\n",
       " 2.5047632129969304,\n",
       " 2.6596102810400937,\n",
       " 2.2177422489987295,\n",
       " 2.501166615112154,\n",
       " 2.770477044447466,\n",
       " 2.57008543197513,\n",
       " 2.593594241702233,\n",
       " 2.5069908821700797,\n",
       " 2.521005552949239,\n",
       " 2.481601991196665,\n",
       " 2.6532129980063,\n",
       " 2.34826116608941,\n",
       " 2.52317025843097,\n",
       " 2.469698754639457,\n",
       " 2.583581618561752,\n",
       " 2.585881612486261,\n",
       " 2.4608384676102917,\n",
       " 2.4544836548127074,\n",
       " 2.5335730610667646,\n",
       " 2.7491230230951844,\n",
       " 2.2405660788805934,\n",
       " 2.5024560918696768,\n",
       " 2.803568312794106,\n",
       " 2.4753323476301654,\n",
       " 2.616835375971901,\n",
       " 2.697953446057884,\n",
       " 2.659189863907873,\n",
       " 2.458135007016635,\n",
       " 2.35388037640051,\n",
       " 2.531279597289173,\n",
       " 2.344679922314078,\n",
       " 2.576967384411443]"
      ]
     },
     "execution_count": 11,
     "metadata": {},
     "output_type": "execute_result"
    }
   ],
   "source": [
    "def create_population(*, start, end, n, size):\n",
    "    return [average(sample_many(start=start, end=end, n=n))for _ in range(size)]\n",
    "\n",
    "create_population(start = 0, end = 5, n = 100, size = 1000)"
   ]
  },
  {
   "cell_type": "markdown",
   "metadata": {},
   "source": [
    "## Vježba 5"
   ]
  },
  {
   "cell_type": "markdown",
   "metadata": {
    "id": "u1pZtZ18tr--"
   },
   "source": [
    "Napravite listu prosjeka brojeva između 1.0 i 2.0. Neka je svaka lista veličine 10. Mijenjajte broj prosjeka između 100 do 10000. Prilagodite broj binova u histogramu za najbolju vizualizaciju.\n",
    "\n",
    "Koristite `matplotlib` biblioteku kao što je navedeno:\n",
    "```python\n",
    "from matplotlib import pyplot as plt\n",
    "\n",
    "plt.figure()\n",
    "plt.hist(array, bins=50)\n",
    "plt.show()\n",
    "```"
   ]
  },
  {
   "cell_type": "code",
   "execution_count": 13,
   "metadata": {},
   "outputs": [
    {
     "name": "stdout",
     "output_type": "stream",
     "text": [
      "Collecting matplotlib\n",
      "  Using cached matplotlib-3.8.3-cp311-cp311-win_amd64.whl (7.6 MB)\n",
      "Collecting contourpy>=1.0.1\n",
      "  Using cached contourpy-1.2.0-cp311-cp311-win_amd64.whl (187 kB)\n",
      "Collecting cycler>=0.10\n",
      "  Using cached cycler-0.12.1-py3-none-any.whl (8.3 kB)\n",
      "Collecting fonttools>=4.22.0\n",
      "  Using cached fonttools-4.50.0-cp311-cp311-win_amd64.whl (2.2 MB)\n",
      "Collecting kiwisolver>=1.3.1\n",
      "  Using cached kiwisolver-1.4.5-cp311-cp311-win_amd64.whl (56 kB)\n",
      "Collecting numpy<2,>=1.21\n",
      "  Using cached numpy-1.26.4-cp311-cp311-win_amd64.whl (15.8 MB)\n",
      "Requirement already satisfied: packaging>=20.0 in c:\\a507\\as\\labs_as\\lib\\site-packages (from matplotlib) (24.0)\n",
      "Collecting pillow>=8\n",
      "  Using cached pillow-10.2.0-cp311-cp311-win_amd64.whl (2.6 MB)\n",
      "Collecting pyparsing>=2.3.1\n",
      "  Using cached pyparsing-3.1.2-py3-none-any.whl (103 kB)\n",
      "Requirement already satisfied: python-dateutil>=2.7 in c:\\a507\\as\\labs_as\\lib\\site-packages (from matplotlib) (2.9.0.post0)\n",
      "Requirement already satisfied: six>=1.5 in c:\\a507\\as\\labs_as\\lib\\site-packages (from python-dateutil>=2.7->matplotlib) (1.16.0)\n",
      "Installing collected packages: pyparsing, pillow, numpy, kiwisolver, fonttools, cycler, contourpy, matplotlib\n",
      "Successfully installed contourpy-1.2.0 cycler-0.12.1 fonttools-4.50.0 kiwisolver-1.4.5 matplotlib-3.8.3 numpy-1.26.4 pillow-10.2.0 pyparsing-3.1.2\n",
      "Note: you may need to restart the kernel to use updated packages.\n"
     ]
    },
    {
     "name": "stderr",
     "output_type": "stream",
     "text": [
      "\n",
      "[notice] A new release of pip available: 22.3.1 -> 24.0\n",
      "[notice] To update, run: python.exe -m pip install --upgrade pip\n"
     ]
    }
   ],
   "source": [
    "pip install matplotlib"
   ]
  },
  {
   "cell_type": "code",
   "execution_count": 20,
   "metadata": {
    "id": "3p1R9T9YtprZ"
   },
   "outputs": [
    {
     "data": {
      "image/png": "[encoded data removed]",
      "text/plain": [
       "<Figure size 640x480 with 1 Axes>"
      ]
     },
     "metadata": {},
     "output_type": "display_data"
    }
   ],
   "source": [
    "from matplotlib import pyplot as plt\n",
    "\n",
    "plt.figure()\n",
    "plt.hist(create_population(start = 1.0, end = 2.0, n = 1000, size = 10000), bins=100)\n",
    "plt.show()"
   ]
  }
 ],
 "metadata": {
  "colab": {
   "collapsed_sections": [],
   "provenance": []
  },
  "kernelspec": {
   "display_name": "Python 3.11.2 ('labs_as': venv)",
   "language": "python",
   "name": "python3"
  },
  "language_info": {
   "codemirror_mode": {
    "name": "ipython",
    "version": 3
   },
   "file_extension": ".py",
   "mimetype": "text/x-python",
   "name": "python",
   "nbconvert_exporter": "python",
   "pygments_lexer": "ipython3",
   "version": "3.11.2"
  },
  "vscode": {
   "interpreter": {
    "hash": "dba31355b3c6bf08c3ca350d331dec57049244f5b2befb406292870936a0b800"
   }
  }
 },
 "nbformat": 4,
 "nbformat_minor": 4
}
